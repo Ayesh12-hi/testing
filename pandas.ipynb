{
 "cells": [
  {
   "cell_type": "code",
   "execution_count": 5,
   "id": "9c4c7835-106f-4040-ad7e-6202e6024956",
   "metadata": {},
   "outputs": [
    {
     "name": "stdin",
     "output_type": "stream",
     "text": [
      "Enter the first number 787\n",
      "Enter the secend number 989\n",
      "Enter operator (sum,difference,multiply,quotient) quotient\n"
     ]
    },
    {
     "name": "stdout",
     "output_type": "stream",
     "text": [
      "0.7957532861476239\n"
     ]
    }
   ],
   "source": [
    "num1=float(input(\"Enter the first number\"))\n",
    "num2=float(input(\"Enter the secend number\"))\n",
    "operator=(input(\"Enter operator (sum,difference,multiply,quotient)\"))\n",
    "if(operator == \"sum\"):\n",
    "    print(num1 + num2)\n",
    "elif(operator == \"difference\"):\n",
    "    print(num1 - num2)\n",
    "elif(operator == \"multipy\"):\n",
    "    print(num1 * num2)\n",
    "elif(operator == \"quotient\"):\n",
    "    print(num1 / num2)\n",
    "else:\n",
    "    print(\"Invalid choice\")"
   ]
  },
  {
   "cell_type": "code",
   "execution_count": 17,
   "id": "b95a719d-65af-4047-b07e-f91ced828606",
   "metadata": {},
   "outputs": [
    {
     "name": "stdin",
     "output_type": "stream",
     "text": [
      "Enter the radius of cricle 8\n"
     ]
    },
    {
     "name": "stdout",
     "output_type": "stream",
     "text": [
      "Area of the circle with radius 8.0 is 201.06192982974676\n"
     ]
    }
   ],
   "source": [
    "import math\n",
    "radius=float(input(\"Enter the radius of cricle\"))\n",
    "area=math.pi * radius**2\n",
    "print(f\"Area of the circle with radius {radius} is {area}\")"
   ]
  },
  {
   "cell_type": "code",
   "execution_count": 6,
   "id": "8f7e6fe5-7c26-4b3f-ad47-54e5563d64ec",
   "metadata": {},
   "outputs": [
    {
     "name": "stdout",
     "output_type": "stream",
     "text": [
      "1\n",
      "2\n",
      "3\n",
      "4\n",
      "5\n",
      "6\n",
      "7\n",
      "8\n",
      "9\n",
      "10\n"
     ]
    }
   ],
   "source": [
    "\n",
    "for i in range(1,11):\n",
    "    print(i)"
   ]
  },
  {
   "cell_type": "code",
   "execution_count": null,
   "id": "c2e5bda2-40b4-4834-9c6c-ae8cad91f418",
   "metadata": {},
   "outputs": [],
   "source": []
  },
  {
   "cell_type": "code",
   "execution_count": 5,
   "id": "211c4eff-aa16-47ac-9d77-c4a1ae91b20d",
   "metadata": {},
   "outputs": [
    {
     "name": "stdin",
     "output_type": "stream",
     "text": [
      "Enter your name Purnima Dalai\n",
      "Enter the number of times u want to display your name! 4\n"
     ]
    },
    {
     "name": "stdout",
     "output_type": "stream",
     "text": [
      "Purnima Dalai\n",
      "Purnima Dalai\n",
      "Purnima Dalai\n",
      "Purnima Dalai\n"
     ]
    }
   ],
   "source": [
    "name=input(\"Enter your name\")\n",
    "number=int(input(\"Enter the number of times u want to display your name!\"))\n",
    "for i in range(number):\n",
    "    print(name)"
   ]
  },
  {
   "cell_type": "code",
   "execution_count": 3,
   "id": "c4b91be4-54c3-4465-bb08-3ddcb8befb13",
   "metadata": {},
   "outputs": [
    {
     "name": "stdin",
     "output_type": "stream",
     "text": [
      "Enter the number for sum 52\n"
     ]
    },
    {
     "name": "stdout",
     "output_type": "stream",
     "text": [
      "the sum of 52 natural numbers are 1378\n"
     ]
    }
   ],
   "source": [
    "num=int(input(\"Enter the number for sum\"))\n",
    "total=0\n",
    "for i in range(1,num + 1):\n",
    "    total+=i\n",
    "print(f\"the sum of {num} natural numbers are {total}\")"
   ]
  },
  {
   "cell_type": "code",
   "execution_count": 7,
   "id": "97624c28-672c-4d16-9677-cb7b488786af",
   "metadata": {},
   "outputs": [
    {
     "name": "stdin",
     "output_type": "stream",
     "text": [
      "Enter the table number 54\n"
     ]
    },
    {
     "name": "stdout",
     "output_type": "stream",
     "text": [
      "54 * 1=54\n",
      "54 * 2=108\n",
      "54 * 3=162\n",
      "54 * 4=216\n",
      "54 * 5=270\n",
      "54 * 6=324\n",
      "54 * 7=378\n",
      "54 * 8=432\n",
      "54 * 9=486\n",
      "54 * 10=540\n"
     ]
    }
   ],
   "source": [
    "num= int(input(\"Enter the table number\"))\n",
    "for i in range(1,11):\n",
    "    print(f\"{num} * {i}={num * i}\")"
   ]
  },
  {
   "cell_type": "code",
   "execution_count": 32,
   "id": "202a092e-d5c8-46e0-8033-3ff7f5b44350",
   "metadata": {},
   "outputs": [
    {
     "name": "stdin",
     "output_type": "stream",
     "text": [
      "Enter the factorial number 5\n"
     ]
    },
    {
     "name": "stdout",
     "output_type": "stream",
     "text": [
      "factorial of 5 is: 120\n"
     ]
    }
   ],
   "source": [
    "num=int(input(\"Enter the factorial number\"))\n",
    "factorial=1\n",
    "for i in range(1,num + 1):\n",
    "    factorial*=i\n",
    "print(f\"factorial of {num} is: {factorial}\")\n"
   ]
  },
  {
   "cell_type": "code",
   "execution_count": 11,
   "id": "906ed2e8-1c4f-4295-9335-56fcb08c38d3",
   "metadata": {},
   "outputs": [
    {
     "name": "stdin",
     "output_type": "stream",
     "text": [
      "Enter your name a\n",
      "Enter the number of times u want to display your name! 3\n"
     ]
    },
    {
     "name": "stdout",
     "output_type": "stream",
     "text": [
      "a\n",
      "a\n"
     ]
    }
   ],
   "source": [
    "name=input(\"Enter your name\")\n",
    "number=int(input(\"Enter the number of times u want to display your name!\"))\n",
    "for i in range(1,number):\n",
    "    print(name)"
   ]
  },
  {
   "cell_type": "code",
   "execution_count": 5,
   "id": "f9a83ac7-c921-463a-bf66-1a32f958dbfc",
   "metadata": {},
   "outputs": [
    {
     "name": "stdout",
     "output_type": "stream",
     "text": [
      "0    1.5\n",
      "1    2.5\n",
      "2    3.0\n",
      "3    4.5\n",
      "4    5.0\n",
      "5    6.0\n",
      "dtype: float64\n"
     ]
    }
   ],
   "source": [
    "import pandas as pd\n",
    "ser1=pd.Series([1.5,2.5,3,4.5,5.0,6])\n",
    "print(ser1)"
   ]
  },
  {
   "cell_type": "code",
   "execution_count": 13,
   "id": "1c29a17f-bf78-4cfb-a700-a4aef295f444",
   "metadata": {},
   "outputs": [
    {
     "name": "stdout",
     "output_type": "stream",
     "text": [
      "0      India\n",
      "1     Canada\n",
      "2    Germany\n",
      "Name: country, dtype: object\n"
     ]
    }
   ],
   "source": [
    "import pandas as pd\n",
    "ser2=pd.Series([\"India\",\"Canada\",\"Germany\"],name=\"country\")\n",
    "print(ser2)"
   ]
  },
  {
   "cell_type": "code",
   "execution_count": 27,
   "id": "88bd8ef6-444c-4c62-ac4c-1a84621e61da",
   "metadata": {},
   "outputs": [
    {
     "name": "stdout",
     "output_type": "stream",
     "text": [
      "India    New Delhi\n",
      "Japan        Tokyo\n",
      "UK          London\n",
      "dtype: object\n"
     ]
    }
   ],
   "source": [
    "import pandas as pd\n",
    "ser3=pd.Series({\"India\": \"New Delhi\",\n",
    "                \"Japan\": \"Tokyo\",\n",
    "                \"UK\": \"London\"})\n",
    "print(ser3)"
   ]
  },
  {
   "cell_type": "code",
   "execution_count": 33,
   "id": "ee02241c-9046-485e-b90c-7f5fafb7a13f",
   "metadata": {},
   "outputs": [
    {
     "name": "stdout",
     "output_type": "stream",
     "text": [
      "0     1.00\n",
      "1     3.25\n",
      "2     5.50\n",
      "3     7.75\n",
      "4    10.00\n",
      "dtype: float64\n"
     ]
    }
   ],
   "source": [
    "import pandas as pd \n",
    "import numpy as np\n",
    "ser5=pd.Series(np.linspace(1,10,5))\n",
    "print(ser5)"
   ]
  },
  {
   "cell_type": "code",
   "execution_count": 41,
   "id": "ebcadc52-c0d6-456d-8884-ed35295f5647",
   "metadata": {},
   "outputs": [
    {
     "name": "stdout",
     "output_type": "stream",
     "text": [
      "['New Delhi' 'Tokyo' 'London']\n",
      "Index(['India', 'Japan', 'UK'], dtype='object')\n"
     ]
    }
   ],
   "source": [
    "import pandas as pd\n",
    "import numpy as np\n",
    "\n",
    "ser6=pd.Series({\"India\": \"New Delhi\",\"Japan\": \"Tokyo\",\"UK\": \"London\"})\n",
    "print(ser6.values)\n",
    "print(ser6.index)"
   ]
  },
  {
   "cell_type": "code",
   "execution_count": null,
   "id": "ff1e7841-88fe-4b2f-babd-815516685906",
   "metadata": {},
   "outputs": [],
   "source": []
  }
 ],
 "metadata": {
  "kernelspec": {
   "display_name": "Python 3 (ipykernel)",
   "language": "python",
   "name": "python3"
  },
  "language_info": {
   "codemirror_mode": {
    "name": "ipython",
    "version": 3
   },
   "file_extension": ".py",
   "mimetype": "text/x-python",
   "name": "python",
   "nbconvert_exporter": "python",
   "pygments_lexer": "ipython3",
   "version": "3.12.4"
  }
 },
 "nbformat": 4,
 "nbformat_minor": 5
}
